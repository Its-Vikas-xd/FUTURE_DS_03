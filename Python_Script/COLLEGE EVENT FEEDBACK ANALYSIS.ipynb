{
 "cells": [
  {
   "cell_type": "markdown",
   "id": "64e4b7e0",
   "metadata": {},
   "source": [
    "# COLLEGE EVENT FEEDBACK ANALYSIS"
   ]
  },
  {
   "cell_type": "code",
   "execution_count": 130,
   "id": "6f65097b",
   "metadata": {},
   "outputs": [],
   "source": [
    "import numpy as np\n",
    "import pandas as pd\n",
    "import matplotlib.pyplot as plt\n",
    "import seaborn as sns\n",
    "from sklearn.preprocessing import LabelEncoder\n",
    "import nltk\n",
    "import re\n",
    "import string"
   ]
  },
  {
   "cell_type": "code",
   "execution_count": 131,
   "id": "bae4e95d",
   "metadata": {},
   "outputs": [],
   "source": [
    "feedback= pd.read_csv(r\"C:\\Users\\Vikas\\Desktop\\FUTURE_DS_03\\Dataset\\student_feedback.csv\")\n",
    "Statisfaction = pd.read_csv(r\"C:\\Users\\Vikas\\Desktop\\FUTURE_DS_03\\Dataset\\Student_Satisfaction_Survey.csv\",encoding=\"ISO-8859-1\")\n"
   ]
  },
  {
   "cell_type": "markdown",
   "id": "3e1e9bf6",
   "metadata": {},
   "source": [
    "## Cleaning the Student feedback data"
   ]
  },
  {
   "cell_type": "code",
   "execution_count": 132,
   "id": "6f6865e0",
   "metadata": {},
   "outputs": [],
   "source": [
    "feedback.rename(columns={\n",
    "    \"Unnamed: 0\": \"ID\",\n",
    "    \"Student ID\": \"Student_ID\",\n",
    "    \"Well versed with the subject\": \"Subject_Knowledge\",\n",
    "    \"Explains concepts in an understandable way\": \"Concept_Clarity\",\n",
    "    \"Use of presentations\": \"Presentations\",\n",
    "    \"Degree of difficulty of assignments\": \"Assignment_Difficulty\",\n",
    "    \"Solves doubts willingly\": \"Doubt_Solving\",\n",
    "    \"Structuring of the course\": \"Course_Structure\",\n",
    "    \"Provides support for students going above and beyond\": \"Extra_Support\",\n",
    "    \"Course recommendation based on relevance\": \"Course_Recommendation\"\n",
    "}, inplace=True)\n"
   ]
  },
  {
   "cell_type": "code",
   "execution_count": 133,
   "id": "34e63fd0",
   "metadata": {},
   "outputs": [
    {
     "data": {
      "text/html": [
       "<div>\n",
       "<style scoped>\n",
       "    .dataframe tbody tr th:only-of-type {\n",
       "        vertical-align: middle;\n",
       "    }\n",
       "\n",
       "    .dataframe tbody tr th {\n",
       "        vertical-align: top;\n",
       "    }\n",
       "\n",
       "    .dataframe thead th {\n",
       "        text-align: right;\n",
       "    }\n",
       "</style>\n",
       "<table border=\"1\" class=\"dataframe\">\n",
       "  <thead>\n",
       "    <tr style=\"text-align: right;\">\n",
       "      <th></th>\n",
       "      <th>ID</th>\n",
       "      <th>Student_ID</th>\n",
       "      <th>Subject_Knowledge</th>\n",
       "      <th>Concept_Clarity</th>\n",
       "      <th>Presentations</th>\n",
       "      <th>Assignment_Difficulty</th>\n",
       "      <th>Doubt_Solving</th>\n",
       "      <th>Course_Structure</th>\n",
       "      <th>Extra_Support</th>\n",
       "      <th>Course_Recommendation</th>\n",
       "    </tr>\n",
       "  </thead>\n",
       "  <tbody>\n",
       "    <tr>\n",
       "      <th>0</th>\n",
       "      <td>0</td>\n",
       "      <td>340</td>\n",
       "      <td>5</td>\n",
       "      <td>2</td>\n",
       "      <td>7</td>\n",
       "      <td>6</td>\n",
       "      <td>9</td>\n",
       "      <td>2</td>\n",
       "      <td>1</td>\n",
       "      <td>8</td>\n",
       "    </tr>\n",
       "    <tr>\n",
       "      <th>1</th>\n",
       "      <td>1</td>\n",
       "      <td>253</td>\n",
       "      <td>6</td>\n",
       "      <td>5</td>\n",
       "      <td>8</td>\n",
       "      <td>6</td>\n",
       "      <td>2</td>\n",
       "      <td>1</td>\n",
       "      <td>2</td>\n",
       "      <td>9</td>\n",
       "    </tr>\n",
       "    <tr>\n",
       "      <th>2</th>\n",
       "      <td>2</td>\n",
       "      <td>680</td>\n",
       "      <td>7</td>\n",
       "      <td>7</td>\n",
       "      <td>6</td>\n",
       "      <td>5</td>\n",
       "      <td>4</td>\n",
       "      <td>2</td>\n",
       "      <td>3</td>\n",
       "      <td>1</td>\n",
       "    </tr>\n",
       "  </tbody>\n",
       "</table>\n",
       "</div>"
      ],
      "text/plain": [
       "   ID  Student_ID  Subject_Knowledge  Concept_Clarity  Presentations  \\\n",
       "0   0         340                  5                2              7   \n",
       "1   1         253                  6                5              8   \n",
       "2   2         680                  7                7              6   \n",
       "\n",
       "   Assignment_Difficulty  Doubt_Solving  Course_Structure  Extra_Support  \\\n",
       "0                      6              9                 2              1   \n",
       "1                      6              2                 1              2   \n",
       "2                      5              4                 2              3   \n",
       "\n",
       "   Course_Recommendation  \n",
       "0                      8  \n",
       "1                      9  \n",
       "2                      1  "
      ]
     },
     "execution_count": 133,
     "metadata": {},
     "output_type": "execute_result"
    }
   ],
   "source": [
    "feedback.head(3)\n"
   ]
  },
  {
   "cell_type": "code",
   "execution_count": 134,
   "id": "eb9672e9",
   "metadata": {},
   "outputs": [
    {
     "data": {
      "text/plain": [
       "(1001, 10)"
      ]
     },
     "execution_count": 134,
     "metadata": {},
     "output_type": "execute_result"
    }
   ],
   "source": [
    "feedback.shape"
   ]
  },
  {
   "cell_type": "code",
   "execution_count": 135,
   "id": "247fb637",
   "metadata": {},
   "outputs": [
    {
     "name": "stdout",
     "output_type": "stream",
     "text": [
      "<class 'pandas.core.frame.DataFrame'>\n",
      "RangeIndex: 1001 entries, 0 to 1000\n",
      "Data columns (total 10 columns):\n",
      " #   Column                 Non-Null Count  Dtype\n",
      "---  ------                 --------------  -----\n",
      " 0   ID                     1001 non-null   int64\n",
      " 1   Student_ID             1001 non-null   int64\n",
      " 2   Subject_Knowledge      1001 non-null   int64\n",
      " 3   Concept_Clarity        1001 non-null   int64\n",
      " 4   Presentations          1001 non-null   int64\n",
      " 5   Assignment_Difficulty  1001 non-null   int64\n",
      " 6   Doubt_Solving          1001 non-null   int64\n",
      " 7   Course_Structure       1001 non-null   int64\n",
      " 8   Extra_Support          1001 non-null   int64\n",
      " 9   Course_Recommendation  1001 non-null   int64\n",
      "dtypes: int64(10)\n",
      "memory usage: 78.3 KB\n"
     ]
    }
   ],
   "source": [
    "feedback.info()"
   ]
  },
  {
   "cell_type": "code",
   "execution_count": 136,
   "id": "5a828a15",
   "metadata": {},
   "outputs": [
    {
     "data": {
      "text/plain": [
       "ID                       0\n",
       "Student_ID               0\n",
       "Subject_Knowledge        0\n",
       "Concept_Clarity          0\n",
       "Presentations            0\n",
       "Assignment_Difficulty    0\n",
       "Doubt_Solving            0\n",
       "Course_Structure         0\n",
       "Extra_Support            0\n",
       "Course_Recommendation    0\n",
       "dtype: int64"
      ]
     },
     "execution_count": 136,
     "metadata": {},
     "output_type": "execute_result"
    }
   ],
   "source": [
    "feedback.isnull().sum()"
   ]
  },
  {
   "cell_type": "code",
   "execution_count": 137,
   "id": "ba3d5973",
   "metadata": {},
   "outputs": [
    {
     "data": {
      "text/plain": [
       "np.int64(0)"
      ]
     },
     "execution_count": 137,
     "metadata": {},
     "output_type": "execute_result"
    }
   ],
   "source": [
    "# Check for duplicate values\n",
    "feedback.duplicated().sum()"
   ]
  },
  {
   "cell_type": "markdown",
   "id": "2c8d9df3",
   "metadata": {},
   "source": [
    "## Cleaning the Student Satisfaction Survery data"
   ]
  },
  {
   "cell_type": "code",
   "execution_count": 138,
   "id": "6ec268db",
   "metadata": {},
   "outputs": [
    {
     "data": {
      "text/html": [
       "<div>\n",
       "<style scoped>\n",
       "    .dataframe tbody tr th:only-of-type {\n",
       "        vertical-align: middle;\n",
       "    }\n",
       "\n",
       "    .dataframe tbody tr th {\n",
       "        vertical-align: top;\n",
       "    }\n",
       "\n",
       "    .dataframe thead th {\n",
       "        text-align: right;\n",
       "    }\n",
       "</style>\n",
       "<table border=\"1\" class=\"dataframe\">\n",
       "  <thead>\n",
       "    <tr style=\"text-align: right;\">\n",
       "      <th></th>\n",
       "      <th>SN</th>\n",
       "      <th>Total Feedback Given</th>\n",
       "      <th>Total Configured</th>\n",
       "      <th>Questions</th>\n",
       "      <th>Weightage 1</th>\n",
       "      <th>Weightage 2</th>\n",
       "      <th>Weightage 3</th>\n",
       "      <th>Weightage 4</th>\n",
       "      <th>Weightage 5</th>\n",
       "      <th>Average/ Percentage</th>\n",
       "      <th>Course Name</th>\n",
       "      <th>Basic Course</th>\n",
       "    </tr>\n",
       "  </thead>\n",
       "  <tbody>\n",
       "    <tr>\n",
       "      <th>0</th>\n",
       "      <td>1</td>\n",
       "      <td>1</td>\n",
       "      <td>12</td>\n",
       "      <td>How much of the syllabus was covered in the cl...</td>\n",
       "      <td>0</td>\n",
       "      <td>0</td>\n",
       "      <td>1</td>\n",
       "      <td>0</td>\n",
       "      <td>0</td>\n",
       "      <td>3.00 / 60.00</td>\n",
       "      <td>FY B.VOC FOOD TECHNOLOGY</td>\n",
       "      <td>B.VOC FOOD TECHNOLOGY</td>\n",
       "    </tr>\n",
       "    <tr>\n",
       "      <th>1</th>\n",
       "      <td>2</td>\n",
       "      <td>1</td>\n",
       "      <td>12</td>\n",
       "      <td>How well did the teachers prepare for the clas...</td>\n",
       "      <td>0</td>\n",
       "      <td>0</td>\n",
       "      <td>0</td>\n",
       "      <td>0</td>\n",
       "      <td>1</td>\n",
       "      <td>5.00 / 100.00</td>\n",
       "      <td>FY B.VOC FOOD TECHNOLOGY</td>\n",
       "      <td>B.VOC FOOD TECHNOLOGY</td>\n",
       "    </tr>\n",
       "    <tr>\n",
       "      <th>2</th>\n",
       "      <td>3</td>\n",
       "      <td>1</td>\n",
       "      <td>12</td>\n",
       "      <td>How well were the teachers able to communicate?</td>\n",
       "      <td>0</td>\n",
       "      <td>0</td>\n",
       "      <td>0</td>\n",
       "      <td>0</td>\n",
       "      <td>1</td>\n",
       "      <td>5.00 / 100.00</td>\n",
       "      <td>FY B.VOC FOOD TECHNOLOGY</td>\n",
       "      <td>B.VOC FOOD TECHNOLOGY</td>\n",
       "    </tr>\n",
       "  </tbody>\n",
       "</table>\n",
       "</div>"
      ],
      "text/plain": [
       "   SN  Total Feedback Given  Total Configured  \\\n",
       "0   1                     1                12   \n",
       "1   2                     1                12   \n",
       "2   3                     1                12   \n",
       "\n",
       "                                           Questions  Weightage 1  \\\n",
       "0  How much of the syllabus was covered in the cl...            0   \n",
       "1  How well did the teachers prepare for the clas...            0   \n",
       "2    How well were the teachers able to communicate?            0   \n",
       "\n",
       "   Weightage 2  Weightage 3  Weightage 4  Weightage 5 Average/ Percentage  \\\n",
       "0            0            1            0            0        3.00 / 60.00   \n",
       "1            0            0            0            1       5.00 / 100.00   \n",
       "2            0            0            0            1       5.00 / 100.00   \n",
       "\n",
       "               Course Name            Basic Course  \n",
       "0  FY B.VOC FOOD TECHNOLOGY  B.VOC FOOD TECHNOLOGY  \n",
       "1  FY B.VOC FOOD TECHNOLOGY  B.VOC FOOD TECHNOLOGY  \n",
       "2  FY B.VOC FOOD TECHNOLOGY  B.VOC FOOD TECHNOLOGY  "
      ]
     },
     "execution_count": 138,
     "metadata": {},
     "output_type": "execute_result"
    }
   ],
   "source": [
    "Statisfaction.head(3)"
   ]
  },
  {
   "cell_type": "code",
   "execution_count": 139,
   "id": "f49a9f23",
   "metadata": {},
   "outputs": [],
   "source": [
    "Statisfaction.rename(columns={\n",
    "    'SN': 'SN',\n",
    "    'Total Feedback Given': 'Feedback',\n",
    "    'Total Configured': 'Configured',\n",
    "    'Questions': 'Ques',\n",
    "    'Weightage 1': 'W1',\n",
    "    'Weightage 2': 'W2',\n",
    "    'Weightage 3': 'W3',\n",
    "    'Weightage 4': 'W4',\n",
    "    'Weightage 5': 'W5',\n",
    "    'Average/ Percentage': 'Avg%',\n",
    "    'Course Name': 'Course',\n",
    "    'Basic Course': 'Basic'\n",
    "}, inplace=True)"
   ]
  },
  {
   "cell_type": "code",
   "execution_count": 140,
   "id": "2f23e27b",
   "metadata": {},
   "outputs": [
    {
     "data": {
      "text/plain": [
       "(580, 12)"
      ]
     },
     "execution_count": 140,
     "metadata": {},
     "output_type": "execute_result"
    }
   ],
   "source": [
    "Statisfaction.shape"
   ]
  },
  {
   "cell_type": "code",
   "execution_count": 141,
   "id": "a158c055",
   "metadata": {},
   "outputs": [
    {
     "name": "stdout",
     "output_type": "stream",
     "text": [
      "<class 'pandas.core.frame.DataFrame'>\n",
      "RangeIndex: 580 entries, 0 to 579\n",
      "Data columns (total 12 columns):\n",
      " #   Column        Non-Null Count  Dtype \n",
      "---  ------        --------------  ----- \n",
      " 0   SN            580 non-null    int64 \n",
      " 1   Feedback      580 non-null    int64 \n",
      " 2   Configured    580 non-null    int64 \n",
      " 3   Ques          580 non-null    object\n",
      " 4   W1            580 non-null    int64 \n",
      " 5   W2            580 non-null    int64 \n",
      " 6   W3            580 non-null    int64 \n",
      " 7   W4            580 non-null    int64 \n",
      " 8   W5            580 non-null    int64 \n",
      " 9   Avg%          580 non-null    object\n",
      " 10  Course Name   580 non-null    object\n",
      " 11  Basic         580 non-null    object\n",
      "dtypes: int64(8), object(4)\n",
      "memory usage: 54.5+ KB\n"
     ]
    }
   ],
   "source": [
    "Statisfaction.info()"
   ]
  },
  {
   "cell_type": "code",
   "execution_count": 142,
   "id": "d3d0b889",
   "metadata": {},
   "outputs": [
    {
     "data": {
      "text/plain": [
       "SN              0\n",
       "Feedback        0\n",
       "Configured      0\n",
       "Ques            0\n",
       "W1              0\n",
       "W2              0\n",
       "W3              0\n",
       "W4              0\n",
       "W5              0\n",
       "Avg%            0\n",
       "Course Name     0\n",
       "Basic           0\n",
       "dtype: int64"
      ]
     },
     "execution_count": 142,
     "metadata": {},
     "output_type": "execute_result"
    }
   ],
   "source": [
    "Statisfaction.isnull().sum()"
   ]
  },
  {
   "cell_type": "code",
   "execution_count": 143,
   "id": "21338c8f",
   "metadata": {},
   "outputs": [
    {
     "data": {
      "text/plain": [
       "np.int64(0)"
      ]
     },
     "execution_count": 143,
     "metadata": {},
     "output_type": "execute_result"
    }
   ],
   "source": [
    "# Check for duplicate values\n",
    "Statisfaction.duplicated().sum()"
   ]
  },
  {
   "cell_type": "code",
   "execution_count": 144,
   "id": "e960b232",
   "metadata": {},
   "outputs": [
    {
     "data": {
      "text/plain": [
       "array(['FY B.VOC FOOD TECHNOLOGY', 'FYBA',\n",
       "       'FY BCOM (ACCOUNTING & FINANCE)', 'FY BCOM (BANKING & INSURANCE)',\n",
       "       'FYBMS ', 'FYBSC', 'MA PSYCHOLOGY - 1', 'MA PSYCHOLOGY - 3',\n",
       "       'M.SC PART - 1 COMPUTER SCIENCE', 'MSC ANALYTICAL CHEMISTRY SEM I',\n",
       "       'MSC DATA SCIENCE - 1', 'MSC INFORMATION TECHNOLOGY - 1',\n",
       "       'MSC MICROBIOLOGY - 1', 'MSC ANALYTICAL CHEMISTRY SEM III',\n",
       "       'M.SC PART - 2 COMPUTER SCIENCE', 'MSC DATA SCIENCE - 3',\n",
       "       'MSC INFORMATION TECHNOLOGY - 3', 'MSC MICROBIOLOGY - 3',\n",
       "       'MSC ORGANIC CHEMISTRY - 3', 'MSC PHYSICS - 3', 'S.Y.B.A.F',\n",
       "       'SYBCOM', 'SYBMS ', 'SYBSC', 'SY COMPUTER SCIENCE', 'TYBA',\n",
       "       'TYBCOM', 'TYBMS ', 'TYBSC '], dtype=object)"
      ]
     },
     "execution_count": 144,
     "metadata": {},
     "output_type": "execute_result"
    }
   ],
   "source": [
    "Statisfaction[\"Course Name \"].unique()"
   ]
  },
  {
   "cell_type": "code",
   "execution_count": 145,
   "id": "03c9b19a",
   "metadata": {},
   "outputs": [
    {
     "data": {
      "text/html": [
       "<div>\n",
       "<style scoped>\n",
       "    .dataframe tbody tr th:only-of-type {\n",
       "        vertical-align: middle;\n",
       "    }\n",
       "\n",
       "    .dataframe tbody tr th {\n",
       "        vertical-align: top;\n",
       "    }\n",
       "\n",
       "    .dataframe thead th {\n",
       "        text-align: right;\n",
       "    }\n",
       "</style>\n",
       "<table border=\"1\" class=\"dataframe\">\n",
       "  <thead>\n",
       "    <tr style=\"text-align: right;\">\n",
       "      <th></th>\n",
       "      <th>Course Name</th>\n",
       "      <th>Course_Code</th>\n",
       "    </tr>\n",
       "  </thead>\n",
       "  <tbody>\n",
       "    <tr>\n",
       "      <th>0</th>\n",
       "      <td>FY B.VOC FOOD TECHNOLOGY</td>\n",
       "      <td>0</td>\n",
       "    </tr>\n",
       "    <tr>\n",
       "      <th>1</th>\n",
       "      <td>FY B.VOC FOOD TECHNOLOGY</td>\n",
       "      <td>0</td>\n",
       "    </tr>\n",
       "    <tr>\n",
       "      <th>2</th>\n",
       "      <td>FY B.VOC FOOD TECHNOLOGY</td>\n",
       "      <td>0</td>\n",
       "    </tr>\n",
       "  </tbody>\n",
       "</table>\n",
       "</div>"
      ],
      "text/plain": [
       "               Course Name   Course_Code\n",
       "0  FY B.VOC FOOD TECHNOLOGY            0\n",
       "1  FY B.VOC FOOD TECHNOLOGY            0\n",
       "2  FY B.VOC FOOD TECHNOLOGY            0"
      ]
     },
     "execution_count": 145,
     "metadata": {},
     "output_type": "execute_result"
    }
   ],
   "source": [
    "le = LabelEncoder()\n",
    "Statisfaction['Course_Code'] = le.fit_transform(Statisfaction['Course Name '])\n",
    "Statisfaction[['Course Name ', 'Course_Code']].head(3)"
   ]
  },
  {
   "cell_type": "code",
   "execution_count": 146,
   "id": "0657ab48",
   "metadata": {},
   "outputs": [
    {
     "data": {
      "text/plain": [
       "array(['B.VOC FOOD TECHNOLOGY', 'BACHELOR OF ARTS',\n",
       "       'BACHELOR OF COMMERCE (ACCOUNTING AND FINANCE)',\n",
       "       'BACHELOR OF COMMERCE (BANKING AND INSURANCE)',\n",
       "       'BACHELOR OF MANAGEMENT STUDIES', 'BACHELOR OF SCIENCE',\n",
       "       'MA PSYCHOLOGY', 'MSC COMPUTER SCIENCE',\n",
       "       'MSC ANALYTICAL CHEMISTRY', 'MSC DATA SCIENCE',\n",
       "       'MSC INFORMATION TECHNOLOGY', 'MSC MICROBIOLOGY',\n",
       "       'MSC ORGANIC CHEMISTRY', 'MSC PHYSICS', 'BACHELOR OF COMMERCE',\n",
       "       'B.SC. COMPUTER SCIENCE'], dtype=object)"
      ]
     },
     "execution_count": 146,
     "metadata": {},
     "output_type": "execute_result"
    }
   ],
   "source": [
    "Statisfaction[\"Basic\"].unique()"
   ]
  },
  {
   "cell_type": "code",
   "execution_count": 147,
   "id": "df86d254",
   "metadata": {},
   "outputs": [
    {
     "data": {
      "text/html": [
       "<div>\n",
       "<style scoped>\n",
       "    .dataframe tbody tr th:only-of-type {\n",
       "        vertical-align: middle;\n",
       "    }\n",
       "\n",
       "    .dataframe tbody tr th {\n",
       "        vertical-align: top;\n",
       "    }\n",
       "\n",
       "    .dataframe thead th {\n",
       "        text-align: right;\n",
       "    }\n",
       "</style>\n",
       "<table border=\"1\" class=\"dataframe\">\n",
       "  <thead>\n",
       "    <tr style=\"text-align: right;\">\n",
       "      <th></th>\n",
       "      <th>Basic</th>\n",
       "      <th>Basic_InCode</th>\n",
       "    </tr>\n",
       "  </thead>\n",
       "  <tbody>\n",
       "    <tr>\n",
       "      <th>0</th>\n",
       "      <td>B.VOC FOOD TECHNOLOGY</td>\n",
       "      <td>1</td>\n",
       "    </tr>\n",
       "    <tr>\n",
       "      <th>1</th>\n",
       "      <td>B.VOC FOOD TECHNOLOGY</td>\n",
       "      <td>1</td>\n",
       "    </tr>\n",
       "    <tr>\n",
       "      <th>2</th>\n",
       "      <td>B.VOC FOOD TECHNOLOGY</td>\n",
       "      <td>1</td>\n",
       "    </tr>\n",
       "  </tbody>\n",
       "</table>\n",
       "</div>"
      ],
      "text/plain": [
       "                   Basic  Basic_InCode\n",
       "0  B.VOC FOOD TECHNOLOGY             1\n",
       "1  B.VOC FOOD TECHNOLOGY             1\n",
       "2  B.VOC FOOD TECHNOLOGY             1"
      ]
     },
     "execution_count": 147,
     "metadata": {},
     "output_type": "execute_result"
    }
   ],
   "source": [
    "Statisfaction['Basic_InCode'] = le.fit_transform(Statisfaction['Basic'])\n",
    "Statisfaction[['Basic', 'Basic_InCode']].head(3)"
   ]
  },
  {
   "cell_type": "code",
   "execution_count": 148,
   "id": "e29d2b03",
   "metadata": {},
   "outputs": [
    {
     "name": "stdout",
     "output_type": "stream",
     "text": [
      "Course Name \n",
      "FY BCOM (ACCOUNTING & FINANCE)      14.8\n",
      "S.Y.B.A.F                            9.2\n",
      "TYBCOM                               7.8\n",
      "SYBCOM                               7.4\n",
      "SY COMPUTER SCIENCE                  5.4\n",
      "FYBMS                                5.2\n",
      "FY BCOM (BANKING & INSURANCE)        4.0\n",
      "MSC ORGANIC CHEMISTRY - 3            3.4\n",
      "TYBA                                 3.4\n",
      "MSC ANALYTICAL CHEMISTRY SEM III     2.8\n",
      "MSC MICROBIOLOGY - 3                 2.8\n",
      "FYBSC                                2.4\n",
      "TYBSC                                1.8\n",
      "SYBSC                                1.4\n",
      "SYBMS                                1.4\n",
      "M.SC PART - 2 COMPUTER SCIENCE       1.4\n",
      "MA PSYCHOLOGY - 3                    1.4\n",
      "MSC INFORMATION TECHNOLOGY - 3       1.2\n",
      "MA PSYCHOLOGY - 1                    1.0\n",
      "M.SC PART - 1 COMPUTER SCIENCE       0.8\n",
      "TYBMS                                0.8\n",
      "MSC MICROBIOLOGY - 1                 0.6\n",
      "MSC DATA SCIENCE - 3                 0.6\n",
      "MSC DATA SCIENCE - 1                 0.6\n",
      "MSC ANALYTICAL CHEMISTRY SEM I       0.4\n",
      "MSC PHYSICS - 3                      0.4\n",
      "FYBA                                 0.2\n",
      "FY B.VOC FOOD TECHNOLOGY             0.2\n",
      "MSC INFORMATION TECHNOLOGY - 1       0.2\n",
      "Name: Avg_Rating, dtype: float64\n"
     ]
    }
   ],
   "source": [
    "# Example: Average of W1-W5 per row\n",
    "Statisfaction['Avg_Rating'] = Statisfaction[['W1','W2','W3','W4','W5']].mean(axis=1)\n",
    "\n",
    "# Average rating per course\n",
    "avg_course = Statisfaction.groupby('Course Name ')['Avg_Rating'].mean().sort_values(ascending=False)\n",
    "print(avg_course)\n"
   ]
  },
  {
   "cell_type": "code",
   "execution_count": 151,
   "id": "b45bb190",
   "metadata": {},
   "outputs": [
    {
     "data": {
      "text/plain": [
       "Sentiment\n",
       "Neutral     319\n",
       "Positive    203\n",
       "Negative     58\n",
       "Name: count, dtype: int64"
      ]
     },
     "execution_count": 151,
     "metadata": {},
     "output_type": "execute_result"
    }
   ],
   "source": [
    "from textblob import TextBlob\n",
    "\n",
    "def get_sentiment(text):\n",
    "    analysis = TextBlob(str(text))\n",
    "    if analysis.sentiment.polarity > 0:\n",
    "        return 'Positive'\n",
    "    elif analysis.sentiment.polarity == 0:\n",
    "        return 'Neutral'\n",
    "    else:\n",
    "        return 'Negative'\n",
    "\n",
    "Statisfaction['Sentiment'] = Statisfaction['Ques'].apply(get_sentiment)\n",
    "Statisfaction['Sentiment'].value_counts()\n"
   ]
  }
 ],
 "metadata": {
  "kernelspec": {
   "display_name": "Python 3",
   "language": "python",
   "name": "python3"
  },
  "language_info": {
   "codemirror_mode": {
    "name": "ipython",
    "version": 3
   },
   "file_extension": ".py",
   "mimetype": "text/x-python",
   "name": "python",
   "nbconvert_exporter": "python",
   "pygments_lexer": "ipython3",
   "version": "3.13.2"
  }
 },
 "nbformat": 4,
 "nbformat_minor": 5
}
